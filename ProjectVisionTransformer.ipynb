{
 "cells": [
  {
   "cell_type": "markdown",
   "id": "4bf85136-f24c-4181-bd00-c10584a1cb8f",
   "metadata": {},
   "source": [
    "# Tomours classification"
   ]
  },
  {
   "cell_type": "code",
   "execution_count": null,
   "id": "1d95af84-d414-4e59-9ed7-1a9deaf66450",
   "metadata": {
    "tags": []
   },
   "outputs": [],
   "source": [
    "import torch\n",
    "\n",
    "%load_ext autoreload\n",
    "%autoreload 2\n",
    "\n",
    "device = (\n",
    "    \"cuda\"\n",
    "    if torch.cuda.is_available()\n",
    "    else \"mps\"\n",
    "    if torch.backends.mps.is_available()\n",
    "    else \"cpu\"\n",
    ")\n",
    "print(f\"Using {device} device\")\n"
   ]
  },
  {
   "cell_type": "markdown",
   "id": "40a19f94",
   "metadata": {},
   "source": [
    "# Variable set up"
   ]
  },
  {
   "cell_type": "code",
   "execution_count": null,
   "id": "6441d1cf-961f-42b6-b645-acf158702ccb",
   "metadata": {
    "tags": []
   },
   "outputs": [],
   "source": [
    "import os\n",
    "\n",
    "os.environ['KMP_DUPLICATE_LIB_OK'] = 'True'\n",
    "\n",
    "model='maxvit_t'\n",
    "\n",
    "BATCH_SIZE = 32\n",
    "EPOCHS = 50\n",
    "IMAGE_SIZE = 224\n",
    "learning_rate = 1e-3\n",
    "DATASET_DIR = 'kidney/KidneyTumor'\n",
    "\n",
    "weights = None\n",
    "# weights = 'IMAGENET1K_V1'\n",
    "\n",
    "transfer_learning = False\n",
    "# transfer_learning = True\n",
    "\n",
    "dropout = 0.4\n",
    "\n",
    "train_percentage = ( 20 ) / 100\n",
    "test_percentage = ( 5 ) / 100\n",
    "validation_percentage = ( 5 ) / 100\n",
    "discard_percentage = 1 - (train_percentage + test_percentage + validation_percentage)\n",
    "\n",
    "image_channel = 3\n",
    "\n",
    "dataset_root = f'G:\\OneDrive\\OneDrive - Universidad de Las Palmas de Gran Canaria\\TFT\\project\\\\{DATASET_DIR}'\n",
    "\n",
    "print(f'Model: {model}')\n",
    "\n",
    "\n"
   ]
  },
  {
   "cell_type": "markdown",
   "id": "acc60ebc-fff3-4810-8398-02d78f7e2e64",
   "metadata": {
    "tags": []
   },
   "source": [
    "## Dataset set up"
   ]
  },
  {
   "cell_type": "code",
   "execution_count": null,
   "id": "3cb191e4-35d1-449e-a32a-f806abbd4abd",
   "metadata": {
    "tags": []
   },
   "outputs": [],
   "source": [
    "import os\n",
    "from collections import Counter\n",
    "from torchvision import datasets\n",
    "from torch.utils.data import Dataset, DataLoader\n",
    "from torchvision.transforms import ToTensor, Compose, Grayscale, Resize, RandomHorizontalFlip, RandomVerticalFlip\n",
    "from torchvision.io import read_image\n",
    "import matplotlib.pyplot as plt\n",
    "from utils import *\n",
    "\n",
    "import os\n",
    "from torchvision import transforms\n",
    "from torch.utils.data import Dataset, DataLoader\n",
    "from PIL import Image\n",
    "\n",
    "transform = transforms.Compose([\n",
    "    transforms.Resize((IMAGE_SIZE, IMAGE_SIZE)),\n",
    "    transforms.ToTensor(),\n",
    "])\n",
    "\n",
    "dataset = MixDataset(dataset_dir=dataset_root, transform=transform)\n",
    "\n",
    "\n",
    "if type(dataset) == MixDataset:\n",
    "\n",
    "    train_size = int(train_percentage * len(dataset))\n",
    "    test_size = int(test_percentage * len(dataset))\n",
    "    validation_size = int(validation_percentage * len(dataset))\n",
    "\n",
    "    total_size = len(dataset) - train_size - test_size - validation_size\n",
    "\n",
    "    training, testing, validation, _ = torch.utils.data.random_split(dataset, [train_size, test_size, validation_size, total_size])\n",
    "\n",
    "train_dataloader = DataLoader(training, batch_size=BATCH_SIZE, shuffle=True)\n",
    "test_dataloader = DataLoader(testing, batch_size=BATCH_SIZE, shuffle=False)\n",
    "validation_dataloader = DataLoader(validation, batch_size=BATCH_SIZE, shuffle=False)\n",
    "\n",
    "X, y = next(iter(train_dataloader))\n",
    "print(f\"Shape of X: {X.shape}\")\n",
    "print(f\"Shape of y: {y.shape} {y.dtype}\")\n",
    "\n",
    "num_classes = dataset.num_classes\n",
    "print('Classes:', dataset)\n",
    "print('Num classes:', num_classes)\n",
    "print('Training length total count:',len(train_dataloader.dataset))\n",
    "print('Test length total count:', len(test_dataloader.dataset))\n",
    "print('Validation length total count:', len(validation_dataloader.dataset))\n",
    "\n",
    "# show_samples(X, y)\n",
    "# draw_each_class(dataset=dataset)\n"
   ]
  },
  {
   "cell_type": "markdown",
   "id": "b2e022d8-98d8-45ac-8138-35fdf4929822",
   "metadata": {},
   "source": [
    "## Train Vision Transformer"
   ]
  },
  {
   "cell_type": "code",
   "execution_count": null,
   "id": "665d0368-5dad-426d-b402-4c0fc923f848",
   "metadata": {
    "tags": []
   },
   "outputs": [],
   "source": [
    "\n",
    "from torchinfo import summary\n",
    "#from torchsummary import summary\n",
    "\n",
    "from transformers_models import BaseModel\n",
    "\n",
    "kwargs = {\n",
    "    'weights': weights,\n",
    "    'transfer_learning': transfer_learning,\n",
    "    'num_classes': num_classes,\n",
    "    'dropout': dropout,\n",
    "}\n",
    "\n",
    "\n",
    "model_instance = BaseModel(model, **kwargs)\n",
    "\n",
    "\n",
    "summary(\n",
    "    model=model_instance.get_model(),\n",
    ")"
   ]
  },
  {
   "cell_type": "markdown",
   "id": "0666e68d",
   "metadata": {},
   "source": [
    "# Memory Management"
   ]
  },
  {
   "cell_type": "code",
   "execution_count": null,
   "id": "b9f6879e",
   "metadata": {},
   "outputs": [],
   "source": [
    "import gc\n",
    "import torch\n",
    "\n",
    "torch.cuda.empty_cache()\n",
    "gc.enable()\n"
   ]
  },
  {
   "cell_type": "markdown",
   "id": "c39beaf3",
   "metadata": {},
   "source": [
    "# Load state from direction"
   ]
  },
  {
   "cell_type": "code",
   "execution_count": null,
   "id": "4819e0b8",
   "metadata": {},
   "outputs": [],
   "source": [
    "if False:\n",
    "    dir_to_model = 'saved_models\\maxvit_t_1706443129724.pth'\n",
    "    model.load_state_model(dir_to_model)\n",
    "    "
   ]
  },
  {
   "cell_type": "markdown",
   "id": "a9b143e1",
   "metadata": {},
   "source": [
    "# Training"
   ]
  },
  {
   "cell_type": "code",
   "execution_count": null,
   "id": "46666105",
   "metadata": {},
   "outputs": [],
   "source": [
    "from torch import optim, nn\n",
    "import time\n",
    "import gc\n",
    "from utils import convert_seconds\n",
    "\n",
    "loss_fn = nn.CrossEntropyLoss()\n",
    "optimizer = optim.Adam( \n",
    "        model_instance.get_model().parameters(),\n",
    "        lr = learning_rate\n",
    "    )\n",
    "\n",
    "train_acc = []\n",
    "train_loss = []\n",
    "test_acc = []\n",
    "test_loss = []\n",
    "val_acc = []\n",
    "val_loss = []\n",
    "\n",
    "best_validation_epoch = 0\n",
    "best_epoch = 0\n",
    "best_timestamp_epoch =  0\n",
    "\n",
    "start_time = time.time()\n",
    "\n",
    "kwargs = {\n",
    "    'validation_dataloader': validation_dataloader, \n",
    "    'val_acc': val_acc, \n",
    "    'val_loss': val_loss, \n",
    "    'device': device,\n",
    "}\n",
    "\n",
    "for epoch in range(EPOCHS):\n",
    "    epoch_start_time  = time.time()\n",
    "    print(f\"Epoch {epoch+1}/{EPOCHS}\\n-------------------------------\")\n",
    "    current_val_acc, current_val_loss, best_acc = model_instance.train(train_dataloader, loss_fn, optimizer, train_loss, train_acc, BATCH_SIZE, **kwargs)\n",
    "    epoch_end_time  = time.time()\n",
    "    epoch_time = epoch_end_time - epoch_start_time\n",
    "    current_time = epoch_end_time - start_time\n",
    "\n",
    "    if best_acc > best_validation_epoch:\n",
    "        best_validation_epoch = best_acc\n",
    "        best_epoch = epoch\n",
    "        best_timestamp_epoch = current_time\n",
    "\n",
    "    print(f\"\\nEpoch Time:                   {convert_seconds(epoch_time)}\\nTraining time up to now:     {convert_seconds(current_time)} s\")\n",
    "    print(f\"Best Epoch Time at epoch: {best_epoch} --- > --- > Validation Accuracy: {best_validation_epoch:>2f} % Timestamp: {convert_seconds(current_time)} s \\n-------------------------------\")\n",
    "\n",
    "\n",
    "end_time = time.time()\n",
    "total_time = end_time - start_time\n",
    "\n",
    "print(\"Done!\", \"Time of training: \", convert_seconds(total_time), \"Best Training accuracy: \", max(train_acc), \"Best Validation Avg accuracy: \", max(val_acc))\n"
   ]
  },
  {
   "cell_type": "markdown",
   "id": "03ca89fd",
   "metadata": {},
   "source": [
    "# Print settings"
   ]
  },
  {
   "cell_type": "code",
   "execution_count": null,
   "id": "a94b59af",
   "metadata": {},
   "outputs": [],
   "source": [
    "\n",
    "      \n",
    "print(f\"Evaluating Test Error Dataset with length: {len(test_dataloader.dataset)} \\n\")\n",
    "test_eval_acc, test_eval_loss = model_instance.evaluate(test_dataloader, loss_fn, test_loss, test_acc, device)\n",
    "print(f\"Test Error with length: {len(test_dataloader.dataset)}: \\n Accuracy: {test_eval_acc:>0.1f}%, Average loss: {test_eval_loss:>8f} \\n\")\n",
    "\n",
    "print(\"Done!\", \"Time of training: \", convert_seconds(total_time), \"Best Training accuracy: \", max(train_acc), \"Test accuracy: \", max(test_acc), \"Best Validation accuracy: \", max(val_acc))\n",
    "print(f'Dataset: {DATASET_DIR}\\n' \n",
    "      f'Model: {model_instance.get_model_class()}\\n'\n",
    "      f'Batch size: {BATCH_SIZE}\\n'\n",
    "      f'Epochs: {EPOCHS}\\n'\n",
    "      f'Number of classes: {num_classes}\\n'\n",
    "      f'Image size and image channel: {image_channel}x{IMAGE_SIZE}x{IMAGE_SIZE}\\n'      \n",
    "      f'Learning rate: {learning_rate}\\n'      \n",
    "      f'Time execution: {convert_seconds(total_time)}\\n'\n",
    "      f'\\nBest accuracy: {max(train_acc)}\\n' \n",
    "      f'Best accuracy in Test Dataset: {max(test_acc)}\\n'\n",
    "      f'Best accuracy in Validation Dataset: {max(val_acc)}\\n'\n",
    ")\n",
    "\n",
    "print(f\"Best Epoch Time at epoch: {best_epoch}\\nValidation Avg Accuracy: {best_validation_epoch:>2f}\\nTimestamp: {convert_seconds(best_timestamp_epoch)} s \")\n",
    "\n",
    "\n",
    "if train_percentage is not None and type(dataset) == MixDataset:\n",
    "      print(f'Usage of Dataset for training: {train_percentage*100}%\\n' \n",
    "            f'Usage of Dataset for testing: {test_percentage*100}%\\n' \n",
    "            f'Usage of Dataset for validation: {validation_percentage*100}%\\n' \n",
    "            f'Dataset discarded: {discard_percentage*100}%\\n' \n",
    "      )\n",
    "\n"
   ]
  },
  {
   "cell_type": "code",
   "execution_count": null,
   "id": "c4dea577-0ae1-407c-a86c-6e41207f0d64",
   "metadata": {},
   "outputs": [],
   "source": [
    "from utils import *\n",
    "\n",
    "max_length = 0\n",
    "\n",
    "print(train_loss[-1],  len (train_loss))\n",
    "print(train_acc[-1],  len (train_acc))\n",
    "print(val_acc[-1],  len (val_acc))\n",
    "print(val_loss[-1], len (val_loss))\n",
    "\n",
    "model_instance.draw_graphics(train_loss, train_acc, val_acc, val_loss)\n",
    "model_instance.save_model()"
   ]
  }
 ],
 "metadata": {
  "kernelspec": {
   "display_name": "Python 3 (ipykernel)",
   "language": "python",
   "name": "python3"
  },
  "language_info": {
   "codemirror_mode": {
    "name": "ipython",
    "version": 3
   },
   "file_extension": ".py",
   "mimetype": "text/x-python",
   "name": "python",
   "nbconvert_exporter": "python",
   "pygments_lexer": "ipython3",
   "version": "3.9.5"
  }
 },
 "nbformat": 4,
 "nbformat_minor": 5
}
